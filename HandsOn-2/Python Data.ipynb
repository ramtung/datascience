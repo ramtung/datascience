{
 "cells": [
  {
   "cell_type": "markdown",
   "metadata": {},
   "source": [
    "## Loading a table"
   ]
  },
  {
   "cell_type": "code",
   "execution_count": null,
   "metadata": {},
   "outputs": [],
   "source": [
    "import pandas as pd\n",
    "w = pd.read_csv('weather.csv')\n",
    "w.head()"
   ]
  },
  {
   "cell_type": "code",
   "execution_count": null,
   "metadata": {},
   "outputs": [],
   "source": [
    "w.tail()"
   ]
  },
  {
   "cell_type": "markdown",
   "metadata": {},
   "source": [
    "## Data types"
   ]
  },
  {
   "cell_type": "code",
   "execution_count": null,
   "metadata": {},
   "outputs": [],
   "source": [
    "type(w)"
   ]
  },
  {
   "cell_type": "code",
   "execution_count": null,
   "metadata": {},
   "outputs": [],
   "source": [
    "type(w['date'])"
   ]
  },
  {
   "cell_type": "code",
   "execution_count": null,
   "metadata": {},
   "outputs": [],
   "source": [
    "type(w['date'][0])"
   ]
  },
  {
   "cell_type": "markdown",
   "metadata": {},
   "source": [
    "## Hands-On Step 1\n",
    "1. Read `data.csv` into a data frame named `data`. \n",
    "2. Print its first and last rows. \n",
    "3. Explore the data types of `Serial No.` and `GRE Score` columns.\n",
    "4. Use `data.describe()` to get further information about the data."
   ]
  },
  {
   "cell_type": "markdown",
   "metadata": {},
   "source": [
    "## Running Aggregate Queries"
   ]
  },
  {
   "cell_type": "code",
   "execution_count": null,
   "metadata": {},
   "outputs": [],
   "source": [
    "w['temp'].max()"
   ]
  },
  {
   "cell_type": "code",
   "execution_count": null,
   "metadata": {},
   "outputs": [],
   "source": [
    "print('During this period:')\n",
    "print('Maximum temperature was %.2f degrees.' % (w['temp'].max()))\n",
    "print('Minimum temperature was %.2f degrees.' % (w['temp'].min()))\n",
    "print('Average temperature was %.2f degrees.' % (w['temp'].mean()))\n",
    "print('Total percipitation was %.0f mm.'      % (w['percipitation'].sum()))"
   ]
  },
  {
   "cell_type": "markdown",
   "metadata": {},
   "source": [
    "## Hands-On Step 2\n",
    "Find out the number of applicants having `Research` field `1`."
   ]
  },
  {
   "cell_type": "markdown",
   "metadata": {},
   "source": [
    "## Handling Missing Data"
   ]
  },
  {
   "cell_type": "code",
   "execution_count": null,
   "metadata": {},
   "outputs": [],
   "source": [
    "w.isna()"
   ]
  },
  {
   "cell_type": "code",
   "execution_count": null,
   "metadata": {},
   "outputs": [],
   "source": [
    "w.isna().sum()"
   ]
  },
  {
   "cell_type": "code",
   "execution_count": null,
   "metadata": {},
   "outputs": [],
   "source": [
    "w.isnull().any(axis=1)"
   ]
  },
  {
   "cell_type": "code",
   "execution_count": null,
   "metadata": {},
   "outputs": [],
   "source": [
    "w[w.isna().any(axis=1)]"
   ]
  },
  {
   "cell_type": "code",
   "execution_count": null,
   "metadata": {},
   "outputs": [],
   "source": [
    "w.describe()"
   ]
  },
  {
   "cell_type": "code",
   "execution_count": null,
   "metadata": {},
   "outputs": [],
   "source": [
    "w.fillna({'temp': w['temp'].mean(), 'visibility': 6.0}, inplace=True)"
   ]
  },
  {
   "cell_type": "code",
   "execution_count": null,
   "metadata": {},
   "outputs": [],
   "source": [
    "w.isna().sum()"
   ]
  },
  {
   "cell_type": "code",
   "execution_count": null,
   "metadata": {},
   "outputs": [],
   "source": [
    "w.describe()"
   ]
  },
  {
   "cell_type": "markdown",
   "metadata": {},
   "source": [
    "## Hands-On Step 3\n",
    "1. On `data` data frame, use `isna()` and other method to obtain information about missing values.\n",
    "2. Replace all missing values with the mean value of the corresponding column.\n",
    "3. Make sure no NA value is left in the data."
   ]
  },
  {
   "cell_type": "markdown",
   "metadata": {},
   "source": [
    "## Adding a Column"
   ]
  },
  {
   "cell_type": "code",
   "execution_count": null,
   "metadata": {},
   "outputs": [],
   "source": [
    "# It is better to use date+time as index\n",
    "# add a new column 'datetime' to aggregate date and time\n",
    "w['datetime']= w['date'] + ' ' + w['time'].map(str) + ':00:00'\n",
    "\n",
    "# note that the type of this column is string. We need to change the type to timestamp.\n",
    "print(type(w['datetime'][0]))\n",
    "\n",
    "w[0:5]"
   ]
  },
  {
   "cell_type": "markdown",
   "metadata": {},
   "source": [
    "Using `pd.to_datetime`, change the type of the `datetime` column to Timestamp."
   ]
  },
  {
   "cell_type": "code",
   "execution_count": null,
   "metadata": {},
   "outputs": [],
   "source": [
    "# Change the type to timestamp\n",
    "#w['datetime']=pd.to_datetime(w['datetime'],infer_datetime_format=True)\n",
    "w['datetime']=pd.to_datetime(w['datetime'],format='%d-%m-%Y %H:%M:%S')\n",
    "\n",
    "# note that the type is changed to timestamp\n",
    "print(type(w['datetime'][0]))\n",
    "\n",
    "w[0:5]"
   ]
  },
  {
   "cell_type": "markdown",
   "metadata": {},
   "source": [
    "## Hands-On Step 4\n",
    "Create a new column named `Subj`, whose values are `SOP*0.3 + LOR*0.7`.\n",
    "**You will face an error while doing it!** \n",
    "\n",
    "Try to fix it :-)"
   ]
  },
  {
   "cell_type": "markdown",
   "metadata": {},
   "source": [
    "## Changing the Index\n",
    "Set the newly added column as the index of `w`."
   ]
  },
  {
   "cell_type": "code",
   "execution_count": null,
   "metadata": {},
   "outputs": [],
   "source": [
    "# Let's set datetime as index\n",
    "if 'datetime' in w.columns:\n",
    "    w = w.set_index('datetime')\n",
    "# If you run this block a second time, 'datetime' is removed.\n",
    "# So we need this if statement to make sure we don't run into error.\n",
    "w[0:10]"
   ]
  },
  {
   "cell_type": "code",
   "execution_count": null,
   "metadata": {},
   "outputs": [],
   "source": [
    "# We want to sort values increasingly by date\n",
    "# note that we need to first sort by date, and then by time.\n",
    "w=w.sort_values(['date','time'])\n",
    "w[0:10]\n",
    "# note that the order of index has changed, but the values are not changed\n",
    "\n",
    "# also note that since 'date' is a string, the lexicographic order\n",
    "# in string representation is not necessarily the same as in date\n",
    "# representation. Therefore this order is not correct."
   ]
  },
  {
   "cell_type": "code",
   "execution_count": null,
   "metadata": {},
   "outputs": [],
   "source": [
    "# In order to get the correct order, we can directly sort index which\n",
    "# is the best representation of date and time.\n",
    "w=w.sort_index()\n",
    "w[0:10]\n",
    "# This ordering is correct. Correct ordering sometimes matter,\n",
    "# specially when you want to draw curves."
   ]
  },
  {
   "cell_type": "markdown",
   "metadata": {},
   "source": [
    "## Hands-On Step 5\n",
    "1. Set `Serial No.` as the index of `data`. Make sure running the cell twice does not cause error.\n",
    "2. Sort the data based on the descending order of University Rating, and then CGPA."
   ]
  },
  {
   "cell_type": "markdown",
   "metadata": {},
   "source": [
    "# Drawing Figures"
   ]
  },
  {
   "cell_type": "code",
   "execution_count": null,
   "metadata": {},
   "outputs": [],
   "source": [
    "import matplotlib.pyplot as plt\n",
    "%matplotlib inline\n",
    "\n",
    "plt.plot(w['temp'])\n",
    "# Note that x-axis is automatically set to index"
   ]
  },
  {
   "cell_type": "code",
   "execution_count": null,
   "metadata": {},
   "outputs": [],
   "source": [
    "# We need to make the plot larger\n",
    "plt.figure(figsize=(10,6))\n",
    "plt.plot(w['temp'])\n",
    "# Show grid\n",
    "plt.grid()\n"
   ]
  },
  {
   "cell_type": "code",
   "execution_count": null,
   "metadata": {},
   "outputs": [],
   "source": [
    "plt.figure(figsize=(10,6))\n",
    "plt.plot(w['az'])\n",
    "# Azimuth angle of wind direction\n",
    "# not a good figure"
   ]
  },
  {
   "cell_type": "code",
   "execution_count": null,
   "metadata": {},
   "outputs": [],
   "source": [
    "plt.figure(figsize=(10,6))\n",
    "plt.plot(w['visibility'])"
   ]
  },
  {
   "cell_type": "code",
   "execution_count": null,
   "metadata": {},
   "outputs": [],
   "source": [
    "plt.figure(figsize=(10,6))\n",
    "plt.plot(w['percipitation'])\n",
    "# note that all of these figures have a lot of problems."
   ]
  },
  {
   "cell_type": "markdown",
   "metadata": {},
   "source": [
    "## Hands-On Step 6\n",
    "Using `plt.scatter`, draw a scatter plot of GRE Score against CGPA"
   ]
  },
  {
   "cell_type": "markdown",
   "metadata": {},
   "source": [
    "## Groupby "
   ]
  },
  {
   "cell_type": "code",
   "execution_count": null,
   "metadata": {},
   "outputs": [],
   "source": [
    "# If we want to draw daily figures, we need to use groupby\n",
    "\n",
    "wg=w.groupby('date')\n",
    "type(wg)"
   ]
  },
  {
   "cell_type": "code",
   "execution_count": null,
   "metadata": {
    "scrolled": true
   },
   "outputs": [],
   "source": [
    "daily=pd.DataFrame()\n",
    "daily['max_temp']=wg['temp'].max()\n",
    "daily['min_temp']=wg['temp'].min()\n",
    "daily['avg_temp']=wg['temp'].mean()\n",
    "daily['percipitation']=wg['percipitation'].sum()\n",
    "daily.index=pd.to_datetime(daily.index,format='%d-%m-%Y')\n",
    "daily=daily.sort_index()\n",
    "daily"
   ]
  },
  {
   "cell_type": "markdown",
   "metadata": {},
   "source": [
    "## Hands-On Step 7\n",
    "Create a summary data frame in which you store average CGPA, average GRE Score, and the number of Research applicants, against University Rating."
   ]
  },
  {
   "cell_type": "markdown",
   "metadata": {},
   "source": [
    "## More visualizations"
   ]
  },
  {
   "cell_type": "code",
   "execution_count": null,
   "metadata": {},
   "outputs": [],
   "source": [
    "# Here is a simple plot comparing the minimum and maximum daily temperature values.\n",
    "plt.plot(daily['max_temp'],'r')\n",
    "plt.plot(daily['min_temp'],'b')"
   ]
  },
  {
   "cell_type": "code",
   "execution_count": null,
   "metadata": {},
   "outputs": [],
   "source": [
    "# We can format this figure\n",
    "plt.figure(figsize=(10,6))\n",
    "plt.plot(daily['max_temp'],'r')\n",
    "plt.plot(daily['min_temp'],'b')\n",
    "plt.grid()\n",
    "plt.title('Min and Max daily temperature in Tehran')\n",
    "plt.xlabel('Date')\n",
    "plt.ylabel('Temperature (°C)')\n",
    "#plt.bar(daily.index,daily['percipitation'])"
   ]
  },
  {
   "cell_type": "code",
   "execution_count": null,
   "metadata": {},
   "outputs": [],
   "source": [
    "# We can add new plots to this chart\n",
    "plt.figure(figsize=(10,6))\n",
    "plt.plot(daily['max_temp'],'r')\n",
    "plt.plot(daily['min_temp'],'b')\n",
    "plt.grid()\n",
    "plt.title('Min and Max daily temperature in Tehran')\n",
    "plt.xlabel('Date')\n",
    "plt.ylabel('Temperature (°C)')\n",
    "plt.bar(daily.index,daily['percipitation'])"
   ]
  },
  {
   "cell_type": "markdown",
   "metadata": {},
   "source": [
    "## Hands-On Step 8\n",
    "1. Draw a plot of Average GRE Score against University Rating.\n",
    "2. Add a plot of Research applicants per University Rating to the plot.\n",
    "3. Make the plots more comprehensible."
   ]
  }
 ],
 "metadata": {
  "kernelspec": {
   "display_name": "Python 3",
   "language": "python",
   "name": "python3"
  },
  "language_info": {
   "codemirror_mode": {
    "name": "ipython",
    "version": 3
   },
   "file_extension": ".py",
   "mimetype": "text/x-python",
   "name": "python",
   "nbconvert_exporter": "python",
   "pygments_lexer": "ipython3",
   "version": "3.7.4"
  }
 },
 "nbformat": 4,
 "nbformat_minor": 2
}
