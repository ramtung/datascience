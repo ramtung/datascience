{
 "cells": [
  {
   "cell_type": "markdown",
   "metadata": {
    "slideshow": {
     "slide_type": "slide"
    }
   },
   "source": [
    "## Python Language Basics"
   ]
  },
  {
   "cell_type": "markdown",
   "metadata": {
    "slideshow": {
     "slide_type": "subslide"
    }
   },
   "source": [
    "### A Simple Python Program\n",
    "Write a python program to print all prime numbers smaller than 20."
   ]
  },
  {
   "cell_type": "code",
   "execution_count": null,
   "metadata": {
    "slideshow": {
     "slide_type": "fragment"
    }
   },
   "outputs": [],
   "source": [
    "# prints prime numbers smaller than 20\n",
    "for num in range(2, 20):\n",
    "    is_prime = True            # assume num is prime, unless...\n",
    "    for div in range(2, num):\n",
    "        if num % div == 0:\n",
    "            is_prime = False\n",
    "    if is_prime:\n",
    "        print(num)"
   ]
  },
  {
   "cell_type": "markdown",
   "metadata": {
    "slideshow": {
     "slide_type": "fragment"
    }
   },
   "source": [
    "#### The same code in C++\n",
    "```C++\n",
    "int main() {\n",
    "    for (int num = 2; num < 20; num++) {\n",
    "        bool is_prime = true;\n",
    "        for (int div = 2, div < num; div++)\n",
    "            if (num % div == 0)\n",
    "                is_prime = false;\n",
    "        if (is_prime)\n",
    "            cout << num;\n",
    "}\n",
    "```"
   ]
  },
  {
   "cell_type": "markdown",
   "metadata": {
    "slideshow": {
     "slide_type": "notes"
    }
   },
   "source": [
    "* Indentation vs. curly braces\n",
    "* No need to declare variables\n",
    "* `range(2, 20)` and `for` loop syntax\n",
    "* No need for parentheses in `if` and `for`\n",
    "* `print` function"
   ]
  },
  {
   "cell_type": "markdown",
   "metadata": {
    "slideshow": {
     "slide_type": "subslide"
    }
   },
   "source": [
    "### Ranges\n",
    "\n",
    "`range(a, b)` denotes the numbers between `a` and `b-1`, inclusive.\n",
    "\n",
    "| Range  | Elements in the Range |\n",
    "|:-------|:--------------------|\n",
    "| range(2, 20) | 2, 3, ..., 19 |\n",
    "| range(20) | 0, 1, 2, ..., 19 |\n",
    "| range(0, 20, 2) | 0, 2, 4, ..., 18 |\n",
    "| range(2, 2) | *nothing* |\n",
    "| range(2, 1) | *nothing* |\n",
    "| range(5, 2, -1) | 5, 4, 3 |\n"
   ]
  },
  {
   "cell_type": "markdown",
   "metadata": {
    "slideshow": {
     "slide_type": "slide"
    }
   },
   "source": [
    "### Defining Functions\n",
    "Using functions, make this code more modular:\n",
    "```Python\n",
    "# prints prime numbers smaller than 20\n",
    "for num in range(2, 20):\n",
    "    is_prime = True            # assume num is prime, unless...\n",
    "    for div in range(2, num):\n",
    "        if num % div == 0:\n",
    "            is_prime = False\n",
    "    if is_prime:\n",
    "        print(num)\n",
    "```"
   ]
  },
  {
   "cell_type": "code",
   "execution_count": null,
   "metadata": {
    "slideshow": {
     "slide_type": "fragment"
    }
   },
   "outputs": [],
   "source": [
    "def is_prime(n):\n",
    "    for div in range(2, n):\n",
    "        if n % div == 0:\n",
    "            return False\n",
    "    return True\n",
    "\n",
    "# prints prime numbers smaller than 20\n",
    "for num in range(2, 20):\n",
    "    if is_prime(num):\n",
    "        print(num)"
   ]
  },
  {
   "cell_type": "markdown",
   "metadata": {
    "slideshow": {
     "slide_type": "notes"
    }
   },
   "source": [
    "* `def` defines a function\n",
    "* `return` returns the function result\n",
    "* Parameters are untyped\n",
    "* We encounter runtime error if sending in a non-number:"
   ]
  },
  {
   "cell_type": "code",
   "execution_count": 49,
   "metadata": {
    "slideshow": {
     "slide_type": "fragment"
    }
   },
   "outputs": [
    {
     "data": {
      "text/plain": [
       "True"
      ]
     },
     "execution_count": 49,
     "metadata": {},
     "output_type": "execute_result"
    }
   ],
   "source": [
    "is_prime(23)"
   ]
  },
  {
   "cell_type": "code",
   "execution_count": 294,
   "metadata": {},
   "outputs": [
    {
     "name": "stdout",
     "output_type": "stream",
     "text": [
      "6.58 µs ± 164 ns per loop (mean ± std. dev. of 7 runs, 100000 loops each)\n"
     ]
    }
   ],
   "source": [
    "%timeit is_prime(1000001)"
   ]
  },
  {
   "cell_type": "markdown",
   "metadata": {
    "slideshow": {
     "slide_type": "slide"
    }
   },
   "source": [
    "### Type Checking in Python"
   ]
  },
  {
   "cell_type": "markdown",
   "metadata": {},
   "source": [
    "* Python is a typed language,\n",
    "* But not **statically** typed\n",
    "  * i.e., types of the variables is not known from the program text\n",
    "  \n",
    "```Python\n",
    "if (x > 0):\n",
    "    y = x + 1\n",
    "else:\n",
    "    y = \"Invalid Input!\"\n",
    "```\n",
    "* Not a good practice to mix types this way!"
   ]
  },
  {
   "cell_type": "markdown",
   "metadata": {
    "slideshow": {
     "slide_type": "slide"
    }
   },
   "source": [
    "### Type Checking in Python"
   ]
  },
  {
   "cell_type": "code",
   "execution_count": 50,
   "metadata": {
    "slideshow": {
     "slide_type": "fragment"
    }
   },
   "outputs": [
    {
     "ename": "TypeError",
     "evalue": "'str' object cannot be interpreted as an integer",
     "output_type": "error",
     "traceback": [
      "\u001b[0;31m----------------------------------------------------------\u001b[0m",
      "\u001b[0;31mTypeError\u001b[0m                Traceback (most recent call last)",
      "\u001b[0;32m<ipython-input-50-c83a6b7fcb09>\u001b[0m in \u001b[0;36m<module>\u001b[0;34m\u001b[0m\n\u001b[0;32m----> 1\u001b[0;31m \u001b[0mis_prime\u001b[0m\u001b[0;34m(\u001b[0m\u001b[0;34m\"23\"\u001b[0m\u001b[0;34m)\u001b[0m\u001b[0;34m\u001b[0m\u001b[0;34m\u001b[0m\u001b[0m\n\u001b[0m",
      "\u001b[0;32m<ipython-input-48-35c66a9353d9>\u001b[0m in \u001b[0;36mis_prime\u001b[0;34m(n)\u001b[0m\n\u001b[1;32m      1\u001b[0m \u001b[0;32mdef\u001b[0m \u001b[0mis_prime\u001b[0m\u001b[0;34m(\u001b[0m\u001b[0mn\u001b[0m\u001b[0;34m)\u001b[0m\u001b[0;34m:\u001b[0m\u001b[0;34m\u001b[0m\u001b[0;34m\u001b[0m\u001b[0m\n\u001b[0;32m----> 2\u001b[0;31m     \u001b[0;32mfor\u001b[0m \u001b[0mdiv\u001b[0m \u001b[0;32min\u001b[0m \u001b[0mrange\u001b[0m\u001b[0;34m(\u001b[0m\u001b[0;36m2\u001b[0m\u001b[0;34m,\u001b[0m \u001b[0mn\u001b[0m\u001b[0;34m)\u001b[0m\u001b[0;34m:\u001b[0m\u001b[0;34m\u001b[0m\u001b[0;34m\u001b[0m\u001b[0m\n\u001b[0m\u001b[1;32m      3\u001b[0m         \u001b[0;32mif\u001b[0m \u001b[0mn\u001b[0m \u001b[0;34m%\u001b[0m \u001b[0mdiv\u001b[0m \u001b[0;34m==\u001b[0m \u001b[0;36m0\u001b[0m\u001b[0;34m:\u001b[0m\u001b[0;34m\u001b[0m\u001b[0;34m\u001b[0m\u001b[0m\n\u001b[1;32m      4\u001b[0m             \u001b[0;32mreturn\u001b[0m \u001b[0;32mFalse\u001b[0m\u001b[0;34m\u001b[0m\u001b[0;34m\u001b[0m\u001b[0m\n\u001b[1;32m      5\u001b[0m     \u001b[0;32mreturn\u001b[0m \u001b[0;32mTrue\u001b[0m\u001b[0;34m\u001b[0m\u001b[0;34m\u001b[0m\u001b[0m\n",
      "\u001b[0;31mTypeError\u001b[0m: 'str' object cannot be interpreted as an integer"
     ]
    }
   ],
   "source": [
    "is_prime(\"23\")"
   ]
  },
  {
   "cell_type": "code",
   "execution_count": 51,
   "metadata": {
    "slideshow": {
     "slide_type": "fragment"
    }
   },
   "outputs": [
    {
     "data": {
      "text/plain": [
       "int"
      ]
     },
     "execution_count": 51,
     "metadata": {},
     "output_type": "execute_result"
    }
   ],
   "source": [
    "type(23)"
   ]
  },
  {
   "cell_type": "code",
   "execution_count": 52,
   "metadata": {
    "slideshow": {
     "slide_type": "fragment"
    }
   },
   "outputs": [
    {
     "data": {
      "text/plain": [
       "str"
      ]
     },
     "execution_count": 52,
     "metadata": {},
     "output_type": "execute_result"
    }
   ],
   "source": [
    "type(\"23\")"
   ]
  },
  {
   "cell_type": "markdown",
   "metadata": {
    "slideshow": {
     "slide_type": "slide"
    }
   },
   "source": [
    "### Using Lists\n",
    "Write a function to return all prime numbers less than a bound."
   ]
  },
  {
   "cell_type": "code",
   "execution_count": 53,
   "metadata": {
    "slideshow": {
     "slide_type": "fragment"
    }
   },
   "outputs": [],
   "source": [
    "def primes_smaller_than(bound):\n",
    "    result = []\n",
    "    for num in range(2, bound):\n",
    "        if is_prime(num):\n",
    "            result.append(num)\n",
    "    return result"
   ]
  },
  {
   "cell_type": "markdown",
   "metadata": {
    "slideshow": {
     "slide_type": "notes"
    }
   },
   "source": [
    "* `[]` denotes an empty list\n",
    "* `append` appends an element to a list\n"
   ]
  },
  {
   "cell_type": "code",
   "execution_count": 54,
   "metadata": {
    "slideshow": {
     "slide_type": "fragment"
    }
   },
   "outputs": [
    {
     "data": {
      "text/plain": [
       "[2, 3, 5, 7, 11, 13, 17, 19]"
      ]
     },
     "execution_count": 54,
     "metadata": {},
     "output_type": "execute_result"
    }
   ],
   "source": [
    "primes_smaller_than(20)"
   ]
  },
  {
   "cell_type": "code",
   "execution_count": 55,
   "metadata": {
    "slideshow": {
     "slide_type": "fragment"
    }
   },
   "outputs": [
    {
     "data": {
      "text/plain": [
       "list"
      ]
     },
     "execution_count": 55,
     "metadata": {},
     "output_type": "execute_result"
    }
   ],
   "source": [
    "type(primes_smaller_than(20))"
   ]
  },
  {
   "cell_type": "markdown",
   "metadata": {
    "slideshow": {
     "slide_type": "subslide"
    }
   },
   "source": [
    "### Objects and Method Calls\n",
    "* Lists are *objects*\n",
    "* The way to talk to objects is: `obj.method(params)` e.g., `primes.append(num)`\n",
    "* To find out the methods an object supports, use tab-completion:\n",
    "```python\n",
    "primes.<Press Tab>\n",
    "               append()  count()   insert()  reverse()\n",
    "               clear()   extend()  pop()     sort()\n",
    "               copy()    index()   remove()\n",
    "```\n",
    "* Objects can be used as function parameters too:\n",
    "```python\n",
    "a_list = [1, 3, 4]\n",
    "len(a_list)\n",
    "```\n",
    "\n",
    "**We will see more about lists shortly.**"
   ]
  },
  {
   "cell_type": "markdown",
   "metadata": {
    "slideshow": {
     "slide_type": "slide"
    }
   },
   "source": [
    "## Visualizing the Results"
   ]
  },
  {
   "cell_type": "markdown",
   "metadata": {
    "slideshow": {
     "slide_type": "subslide"
    }
   },
   "source": [
    "\n",
    "### Counting Primes\n",
    "Return the number of primes smaller than a bound."
   ]
  },
  {
   "cell_type": "code",
   "execution_count": 56,
   "metadata": {
    "slideshow": {
     "slide_type": "fragment"
    }
   },
   "outputs": [],
   "source": [
    "def count_primes_smaller_than(bound):\n",
    "    count = 0\n",
    "    for num in range(2, bound):\n",
    "        if (is_prime(num)):\n",
    "            count = count + 1\n",
    "    return count"
   ]
  },
  {
   "cell_type": "code",
   "execution_count": 57,
   "metadata": {
    "slideshow": {
     "slide_type": "fragment"
    }
   },
   "outputs": [
    {
     "data": {
      "text/plain": [
       "8"
      ]
     },
     "execution_count": 57,
     "metadata": {},
     "output_type": "execute_result"
    }
   ],
   "source": [
    "count_primes_smaller_than(20)"
   ]
  },
  {
   "cell_type": "code",
   "execution_count": null,
   "metadata": {
    "slideshow": {
     "slide_type": "skip"
    }
   },
   "outputs": [],
   "source": [
    "for num in range(10, 1000, 50):\n",
    "    print(num, count_primes_smaller_than(num))"
   ]
  },
  {
   "cell_type": "code",
   "execution_count": 59,
   "metadata": {
    "slideshow": {
     "slide_type": "subslide"
    }
   },
   "outputs": [],
   "source": [
    "index = []\n",
    "primes = []\n",
    "for num in range(10, 1000, 20):\n",
    "    index.append(num)\n",
    "    primes.append(count_primes_smaller_than(num))\n"
   ]
  },
  {
   "cell_type": "code",
   "execution_count": 60,
   "metadata": {
    "scrolled": true,
    "slideshow": {
     "slide_type": "fragment"
    }
   },
   "outputs": [
    {
     "data": {
      "text/plain": [
       "[<matplotlib.lines.Line2D at 0x10f551f10>]"
      ]
     },
     "execution_count": 60,
     "metadata": {},
     "output_type": "execute_result"
    },
    {
     "data": {
      "image/png": "[encoded data removed]",
      "text/plain": [
       "<Figure size 432x288 with 1 Axes>"
      ]
     },
     "metadata": {
      "needs_background": "light"
     },
     "output_type": "display_data"
    }
   ],
   "source": [
    "import matplotlib.pyplot as plt\n",
    "%matplotlib inline\n",
    "    \n",
    "plt.plot(index, primes)"
   ]
  },
  {
   "cell_type": "markdown",
   "metadata": {
    "slideshow": {
     "slide_type": "slide"
    }
   },
   "source": [
    "## String Processing"
   ]
  },
  {
   "cell_type": "markdown",
   "metadata": {
    "slideshow": {
     "slide_type": "subslide"
    }
   },
   "source": [
    "### String Literals\n",
    "```python\n",
    "a = 'one way of writing a string'\n",
    "b = \"another way\"\n",
    "c = \"\"\"\n",
    "This is a longer string that\n",
    "spans multiple lines\n",
    "\"\"\"\n",
    "```"
   ]
  },
  {
   "cell_type": "markdown",
   "metadata": {
    "slideshow": {
     "slide_type": "subslide"
    }
   },
   "source": [
    "### Basic Strings Operations\n",
    "```\n",
    "\"Hello\" + \"World\"  =>  \"HelloWorld\"       (Concatenation)\n",
    "\"Hello\" * 3        =>  \"HelloHelloHello\"  (Repetition)\n",
    "len(\"Hello\")       =>  5                  (Size)\n",
    "\"Hello\" < \"Jello\"  =>  True               (Comparison)\n",
    "\"el\" in \"Hello\"    =>  True               (Search)\n",
    "```"
   ]
  },
  {
   "attachments": {
    "StringIndexing.png": {
     "image/png": "[encoded data removed]"
    }
   },
   "cell_type": "markdown",
   "metadata": {
    "slideshow": {
     "slide_type": "subslide"
    }
   },
   "source": [
    "### String Indexing\n",
    "\n",
    "![StringIndexing.png](attachment:StringIndexing.png)\n"
   ]
  },
  {
   "cell_type": "code",
   "execution_count": 63,
   "metadata": {
    "slideshow": {
     "slide_type": "fragment"
    }
   },
   "outputs": [
    {
     "name": "stdout",
     "output_type": "stream",
     "text": [
      "H\n",
      "o\n"
     ]
    }
   ],
   "source": [
    "s = \"Hello\"\n",
    "print(s[0])\n",
    "print(s[-1])"
   ]
  },
  {
   "cell_type": "markdown",
   "metadata": {
    "slideshow": {
     "slide_type": "subslide"
    }
   },
   "source": [
    "### String Slicing\n",
    "\n",
    "```\n",
    "Index from rear:    -5  -4  -3  -2  -1\n",
    "Index from front:    0   1   2   3   4\n",
    "                   +---+---+---+---+---+\n",
    "                   | H | e | l | l | o |\n",
    "                   +---+---+---+---+---+\n",
    "Slice from front:  :   1   2   3   4   :\n",
    "Slice from rear:   :  -4  -3  -2  -1   :\n",
    "\n",
    "s[1:4]   =>  \"ell\"\n",
    "s[1:]    =>  \"ello\"\n",
    "s[:3]    =>  \"Hel\"\n",
    "s[1:-2]  =>  \"el\"\n",
    "```"
   ]
  },
  {
   "attachments": {},
   "cell_type": "markdown",
   "metadata": {
    "slideshow": {
     "slide_type": "slide"
    }
   },
   "source": [
    "## Predictive Text Problem\n",
    "<img src=\"./images/Predict.jpeg\" width=\"300px\"/>\n",
    "\n",
    "\n",
    "*P*( *word* | *history* )  \n",
    "\n",
    "*P*( *the* | *It's water is so transparent that* ) =  \n",
    "    *C*( *It's water is so transparent that the* ) / *C*( *It's water is so transparent that* )\n",
    "\n",
    "\n"
   ]
  },
  {
   "cell_type": "markdown",
   "metadata": {
    "slideshow": {
     "slide_type": "subslide"
    }
   },
   "source": [
    "## N-grams\n",
    ">Peter Piper picked a peck of pickled peppers;  \n",
    "A peck of pickled peppers Peter Piper picked.  \n",
    "If Peter Piper picked a peck of pickled peppers,  \n",
    "Where’s the peck of pickled peppers Peter Piper picked?\n",
    "\n",
    "* 1-grams (unigrams): \"*Peter*\", \"*Piper*\", \"*picked*\", ...\n",
    "* 2-grams (bigrams): \"*Peter Piper*\", \"*Piper picked*\", ...\n",
    "* 3-grams (trigrams): \"*Peter Piper picked*\", \"*peck of pickled*\", ...\n",
    "* ...\n"
   ]
  },
  {
   "cell_type": "markdown",
   "metadata": {
    "slideshow": {
     "slide_type": "slide"
    }
   },
   "source": [
    "## Problem: Building a Bigram Model\n",
    "\n",
    "Peter Piper picked a peck of pickled peppers;  \n",
    "A peck of pickled peppers Peter Piper picked.  \n",
    "If Peter Piper picked a peck of pickled peppers,  \n",
    "Where’s the peck of pickled peppers Peter Piper picked?"
   ]
  },
  {
   "cell_type": "markdown",
   "metadata": {
    "slideshow": {
     "slide_type": "slide"
    }
   },
   "source": [
    "## Problem: Building a Bigram Model"
   ]
  },
  {
   "cell_type": "markdown",
   "metadata": {
    "slideshow": {
     "slide_type": "fragment"
    }
   },
   "source": [
    "**Step 1. Tokenize the input text:**\n",
    "```\n",
    "[\"Peter\", \"Piper\", \"picked\" ...]\n",
    "```"
   ]
  },
  {
   "cell_type": "markdown",
   "metadata": {
    "slideshow": {
     "slide_type": "fragment"
    }
   },
   "source": [
    "**Step 2. Count the bigrams:**\n",
    "```\n",
    "('peter', 'piper') ==> 4\n",
    "('picked', 'a') ==> 2\n",
    "('picked', 'if') ==> 1\n",
    "...\n",
    "```"
   ]
  },
  {
   "cell_type": "markdown",
   "metadata": {
    "slideshow": {
     "slide_type": "fragment"
    }
   },
   "source": [
    "**Step 3. Construct a (Simple) Language Model:**\n",
    "```\n",
    "'peter' ==> {'piper': 1}\n",
    "'picked' ==> {'peter': 0.25, 'a': 0.5, 'if': 0.25}\n",
    "...\n",
    "```"
   ]
  },
  {
   "cell_type": "markdown",
   "metadata": {
    "slideshow": {
     "slide_type": "slide"
    }
   },
   "source": [
    "### Step 1 - Tokenizing the Input Text\n",
    "Break the input string into separate words, removing the ending punctuations."
   ]
  },
  {
   "cell_type": "code",
   "execution_count": 64,
   "metadata": {
    "slideshow": {
     "slide_type": "fragment"
    }
   },
   "outputs": [
    {
     "data": {
      "text/plain": [
       "['Hello,', 'dear', 'stranger!']"
      ]
     },
     "execution_count": 64,
     "metadata": {},
     "output_type": "execute_result"
    }
   ],
   "source": [
    "# The first version does not remove punctuations\n",
    "def tokenize(s):\n",
    "    words = s.split()\n",
    "    return words\n",
    "\n",
    "tokenize(\"Hello, dear stranger!\")"
   ]
  },
  {
   "cell_type": "code",
   "execution_count": 65,
   "metadata": {
    "slideshow": {
     "slide_type": "fragment"
    }
   },
   "outputs": [
    {
     "data": {
      "text/plain": [
       "['Hello,', 'dear', 'stranger!']"
      ]
     },
     "execution_count": 65,
     "metadata": {},
     "output_type": "execute_result"
    }
   ],
   "source": [
    "# This function does not work correctly!\n",
    "def tokenize(s):\n",
    "    words = s.split()\n",
    "    for word in words:\n",
    "        word.rstrip(\";.,?!\")\n",
    "    return words\n",
    "\n",
    "tokenize(\"Hello, dear stranger!\")"
   ]
  },
  {
   "cell_type": "markdown",
   "metadata": {
    "slideshow": {
     "slide_type": "slide"
    }
   },
   "source": [
    "### Strings are Immutable! (Unlike Lists)"
   ]
  },
  {
   "cell_type": "code",
   "execution_count": 66,
   "metadata": {
    "slideshow": {
     "slide_type": "fragment"
    }
   },
   "outputs": [
    {
     "name": "stdout",
     "output_type": "stream",
     "text": [
      "Hello\n",
      "Hello,\n"
     ]
    }
   ],
   "source": [
    "s = \"Hello,\"\n",
    "print(s.rstrip(\",\"))\n",
    "print(s)"
   ]
  },
  {
   "cell_type": "code",
   "execution_count": 67,
   "metadata": {
    "slideshow": {
     "slide_type": "fragment"
    }
   },
   "outputs": [
    {
     "name": "stdout",
     "output_type": "stream",
     "text": [
      "H\n"
     ]
    },
    {
     "ename": "TypeError",
     "evalue": "'str' object does not support item assignment",
     "output_type": "error",
     "traceback": [
      "\u001b[0;31m----------------------------------------------------------\u001b[0m",
      "\u001b[0;31mTypeError\u001b[0m                Traceback (most recent call last)",
      "\u001b[0;32m<ipython-input-67-f9329cb1ab10>\u001b[0m in \u001b[0;36m<module>\u001b[0;34m\u001b[0m\n\u001b[1;32m      1\u001b[0m \u001b[0ms\u001b[0m \u001b[0;34m=\u001b[0m \u001b[0;34m\"Hello,\"\u001b[0m\u001b[0;34m\u001b[0m\u001b[0;34m\u001b[0m\u001b[0m\n\u001b[1;32m      2\u001b[0m \u001b[0mprint\u001b[0m\u001b[0;34m(\u001b[0m\u001b[0ms\u001b[0m\u001b[0;34m[\u001b[0m\u001b[0;36m0\u001b[0m\u001b[0;34m]\u001b[0m\u001b[0;34m)\u001b[0m\u001b[0;34m\u001b[0m\u001b[0;34m\u001b[0m\u001b[0m\n\u001b[0;32m----> 3\u001b[0;31m \u001b[0ms\u001b[0m\u001b[0;34m[\u001b[0m\u001b[0;36m0\u001b[0m\u001b[0;34m]\u001b[0m \u001b[0;34m=\u001b[0m \u001b[0;34m'h'\u001b[0m\u001b[0;34m\u001b[0m\u001b[0;34m\u001b[0m\u001b[0m\n\u001b[0m",
      "\u001b[0;31mTypeError\u001b[0m: 'str' object does not support item assignment"
     ]
    }
   ],
   "source": [
    "s = \"Hello,\"\n",
    "print(s[0])\n",
    "s[0] = 'h'"
   ]
  },
  {
   "cell_type": "markdown",
   "metadata": {
    "slideshow": {
     "slide_type": "slide"
    }
   },
   "source": [
    "### Solving the Problem"
   ]
  },
  {
   "cell_type": "code",
   "execution_count": 69,
   "metadata": {
    "slideshow": {
     "slide_type": "fragment"
    }
   },
   "outputs": [
    {
     "data": {
      "text/plain": [
       "['Hello', 'dear', 'stranger']"
      ]
     },
     "execution_count": 69,
     "metadata": {},
     "output_type": "execute_result"
    }
   ],
   "source": [
    "def tokenize(s):\n",
    "    words = s.split()\n",
    "    result = []\n",
    "    for word in words:\n",
    "        result.append(word.rstrip(\";.,?!\"))\n",
    "    return result\n",
    "\n",
    "tokenize(\"Hello, dear stranger!\")"
   ]
  },
  {
   "cell_type": "code",
   "execution_count": 70,
   "metadata": {
    "slideshow": {
     "slide_type": "fragment"
    }
   },
   "outputs": [
    {
     "data": {
      "text/plain": [
       "['hello', 'dear', 'stranger']"
      ]
     },
     "execution_count": 70,
     "metadata": {},
     "output_type": "execute_result"
    }
   ],
   "source": [
    "def tokenize(s):\n",
    "    words = s.split()\n",
    "    result = []\n",
    "    for word in words:\n",
    "        result.append(word.rstrip(\";.,?!\").lower())\n",
    "    return result\n",
    "\n",
    "tokenize(\"Hello, dear stranger!\")"
   ]
  },
  {
   "cell_type": "code",
   "execution_count": 71,
   "metadata": {
    "slideshow": {
     "slide_type": "subslide"
    }
   },
   "outputs": [
    {
     "data": {
      "text/plain": [
       "['peter',\n",
       " 'piper',\n",
       " 'picked',\n",
       " 'a',\n",
       " 'peck',\n",
       " 'of',\n",
       " 'pickled',\n",
       " 'peppers',\n",
       " 'a',\n",
       " 'peck',\n",
       " 'of',\n",
       " 'pickled',\n",
       " 'peppers',\n",
       " 'peter',\n",
       " 'piper',\n",
       " 'picked',\n",
       " 'if',\n",
       " 'peter',\n",
       " 'piper',\n",
       " 'picked',\n",
       " 'a',\n",
       " 'peck',\n",
       " 'of',\n",
       " 'pickled',\n",
       " 'peppers',\n",
       " 'where’s',\n",
       " 'the',\n",
       " 'peck',\n",
       " 'of',\n",
       " 'pickled',\n",
       " 'peppers',\n",
       " 'peter',\n",
       " 'piper',\n",
       " 'picked']"
      ]
     },
     "execution_count": 71,
     "metadata": {},
     "output_type": "execute_result"
    }
   ],
   "source": [
    "rhyme = \"\"\"\n",
    "Peter Piper picked a peck of pickled peppers;  \n",
    "A peck of pickled peppers Peter Piper picked.  \n",
    "If Peter Piper picked a peck of pickled peppers,  \n",
    "Where’s the peck of pickled peppers Peter Piper picked?\n",
    "\"\"\"\n",
    "tokenize(rhyme)"
   ]
  },
  {
   "cell_type": "markdown",
   "metadata": {
    "slideshow": {
     "slide_type": "slide"
    }
   },
   "source": [
    "## More About Lists\n",
    "\n",
    "The types of the elements need not be the same:\n",
    "* `a = [99, \"bottles of milk\", [\"on\", \"the\", \"wall\"]]`\n",
    "\n",
    "Same operators as for strings:\n",
    "* `a+b, a*3, a[0], a[-1], a[1:], len(a)`\n",
    "\n",
    "Other operations:\n",
    "\n",
    "|   Operation           |   a            | Result   |\n",
    "|:----------------      |:---------------|:--------:|\n",
    "| `a = list(range(5))`  | `[0,1,2,3,4]`  |          |\n",
    "| `a.append(5)`         | `[0,1,2,3,4,5]`|          |\n",
    "| `a.pop()`             | `[0,1,2,3,4]`  | `5`      |\n",
    "| `a.insert(1, 8)`      | `[0,8,1,2,3,4]`|          |\n",
    "| `a.pop(0)`            | `[8,1,2,3,4]`  | `0`      |\n",
    "| `a.reverse()`         | `[4,3,2,1,8]`  |          |\n",
    "| `a.sort()`            | `[1,2,3,4,8]`  |          |\n"
   ]
  },
  {
   "cell_type": "code",
   "execution_count": 72,
   "metadata": {
    "slideshow": {
     "slide_type": "skip"
    }
   },
   "outputs": [
    {
     "data": {
      "text/plain": [
       "[1, 2, 3, 4, 8]"
      ]
     },
     "execution_count": 72,
     "metadata": {},
     "output_type": "execute_result"
    }
   ],
   "source": [
    "a = list(range(5))\n",
    "a.append(5)\n",
    "a.pop()\n",
    "a.insert(1, 8)\n",
    "a.pop(0)\n",
    "a.reverse()\n",
    "a.sort()\n",
    "a"
   ]
  },
  {
   "cell_type": "markdown",
   "metadata": {
    "slideshow": {
     "slide_type": "subslide"
    }
   },
   "source": [
    "### Manipulating List Items"
   ]
  },
  {
   "cell_type": "code",
   "execution_count": 73,
   "metadata": {
    "slideshow": {
     "slide_type": "fragment"
    }
   },
   "outputs": [
    {
     "data": {
      "text/plain": [
       "[98, 'bottles of milk', ['on', 'the', 'wall']]"
      ]
     },
     "execution_count": 73,
     "metadata": {},
     "output_type": "execute_result"
    }
   ],
   "source": [
    "a = [99, \"bottles of milk\", [\"on\", \"the\", \"wall\"]]\n",
    "a[0] = 98\n",
    "a"
   ]
  },
  {
   "cell_type": "code",
   "execution_count": 74,
   "metadata": {
    "slideshow": {
     "slide_type": "fragment"
    }
   },
   "outputs": [
    {
     "data": {
      "text/plain": [
       "[98, 'bottles of milk']"
      ]
     },
     "execution_count": 74,
     "metadata": {},
     "output_type": "execute_result"
    }
   ],
   "source": [
    "del a[-1]\n",
    "a"
   ]
  },
  {
   "cell_type": "markdown",
   "metadata": {
    "slideshow": {
     "slide_type": "subslide"
    }
   },
   "source": [
    "### Slice Assignment"
   ]
  },
  {
   "cell_type": "code",
   "execution_count": 75,
   "metadata": {
    "slideshow": {
     "slide_type": "fragment"
    }
   },
   "outputs": [
    {
     "data": {
      "text/plain": [
       "['Where', 'have', 'you', 'been', 'yesterday']"
      ]
     },
     "execution_count": 75,
     "metadata": {},
     "output_type": "execute_result"
    }
   ],
   "source": [
    "a = [\"Where\", \"have\", \"you\", \"been\", \"yesterday\"]\n",
    "a"
   ]
  },
  {
   "cell_type": "code",
   "execution_count": 76,
   "metadata": {
    "slideshow": {
     "slide_type": "fragment"
    }
   },
   "outputs": [
    {
     "data": {
      "text/plain": [
       "['have', 'you', 'been']"
      ]
     },
     "execution_count": 76,
     "metadata": {},
     "output_type": "execute_result"
    }
   ],
   "source": [
    "a[1:4]"
   ]
  },
  {
   "cell_type": "code",
   "execution_count": 77,
   "metadata": {
    "slideshow": {
     "slide_type": "fragment"
    }
   },
   "outputs": [
    {
     "data": {
      "text/plain": [
       "['Where', 'did', 'you', 'suddenly', 'go', 'yesterday']"
      ]
     },
     "execution_count": 77,
     "metadata": {},
     "output_type": "execute_result"
    }
   ],
   "source": [
    "a[1:4] = [\"did\", \"you\", \"suddenly\", \"go\"]\n",
    "a"
   ]
  },
  {
   "cell_type": "markdown",
   "metadata": {
    "slideshow": {
     "slide_type": "subslide"
    }
   },
   "source": [
    "### List Comprehension"
   ]
  },
  {
   "cell_type": "code",
   "execution_count": 282,
   "metadata": {},
   "outputs": [
    {
     "data": {
      "text/plain": [
       "['hello', 'ramtin!', 'how', 'are', 'you?']"
      ]
     },
     "execution_count": 282,
     "metadata": {},
     "output_type": "execute_result"
    }
   ],
   "source": [
    "a = [\"Hello\", \"Ramtin!\", \"How\", \"are\", \"you?\"]\n",
    "b = []\n",
    "for word in a:\n",
    "    b.append(word.lower())\n",
    "b"
   ]
  },
  {
   "cell_type": "code",
   "execution_count": 284,
   "metadata": {
    "slideshow": {
     "slide_type": "fragment"
    }
   },
   "outputs": [
    {
     "data": {
      "text/plain": [
       "['hello', 'ramtin!', 'how', 'are', 'you?']"
      ]
     },
     "execution_count": 284,
     "metadata": {},
     "output_type": "execute_result"
    }
   ],
   "source": [
    "b = [word.lower() for word in a]\n",
    "b"
   ]
  },
  {
   "cell_type": "code",
   "execution_count": 285,
   "metadata": {
    "slideshow": {
     "slide_type": "fragment"
    }
   },
   "outputs": [
    {
     "data": {
      "text/plain": [
       "['hello', 'ramtin!', 'you?']"
      ]
     },
     "execution_count": 285,
     "metadata": {},
     "output_type": "execute_result"
    }
   ],
   "source": [
    "b = [word.lower() for word in a if len(word) > 3]\n",
    "b"
   ]
  },
  {
   "cell_type": "markdown",
   "metadata": {
    "slideshow": {
     "slide_type": "slide"
    }
   },
   "source": [
    "## Step 2. Count the Bigrams\n",
    "\n",
    "But first, a more simple problem..."
   ]
  },
  {
   "cell_type": "markdown",
   "metadata": {
    "slideshow": {
     "slide_type": "slide"
    }
   },
   "source": [
    "### Count the frequency of unigrams in a text"
   ]
  },
  {
   "cell_type": "markdown",
   "metadata": {
    "slideshow": {
     "slide_type": "fragment"
    }
   },
   "source": [
    "We define a function such as ```unigram_freq(text)```.\n",
    "\n",
    "What do we expect ```unigram_freq(\"tsamina mina eh eh waka waka eh eh\")``` to return?"
   ]
  },
  {
   "attachments": {
    "map-1.jpg": {
     "image/jpeg": "[encoded data removed]"
    }
   },
   "cell_type": "markdown",
   "metadata": {
    "slideshow": {
     "slide_type": "subslide"
    }
   },
   "source": [
    "#### A *mapping* from words to frequencies:\n",
    "![map-1.jpg](attachment:map-1.jpg)"
   ]
  },
  {
   "attachments": {
    "map-2.jpg": {
     "image/jpeg": "[encoded data removed]"
    }
   },
   "cell_type": "markdown",
   "metadata": {
    "slideshow": {
     "slide_type": "slide"
    }
   },
   "source": [
    "## Dictionaries\n",
    "`{\"tsamina\": 1, \"mina\": 1, \"eh\": 4, \"waka\": 2}`\n",
    "![map-2.jpg](attachment:map-2.jpg)"
   ]
  },
  {
   "cell_type": "markdown",
   "metadata": {
    "slideshow": {
     "slide_type": "subslide"
    }
   },
   "source": [
    "### Working with Dictionaries"
   ]
  },
  {
   "cell_type": "code",
   "execution_count": 78,
   "metadata": {
    "slideshow": {
     "slide_type": "fragment"
    }
   },
   "outputs": [],
   "source": [
    "d = {\"duck\": 2, \"go\": 1}"
   ]
  },
  {
   "cell_type": "code",
   "execution_count": 79,
   "metadata": {
    "slideshow": {
     "slide_type": "fragment"
    }
   },
   "outputs": [
    {
     "data": {
      "text/plain": [
       "2"
      ]
     },
     "execution_count": 79,
     "metadata": {},
     "output_type": "execute_result"
    }
   ],
   "source": [
    "d[\"duck\"]"
   ]
  },
  {
   "cell_type": "code",
   "execution_count": 80,
   "metadata": {
    "slideshow": {
     "slide_type": "fragment"
    }
   },
   "outputs": [
    {
     "ename": "KeyError",
     "evalue": "'back'",
     "output_type": "error",
     "traceback": [
      "\u001b[0;31m----------------------------------------------------------\u001b[0m",
      "\u001b[0;31mKeyError\u001b[0m                 Traceback (most recent call last)",
      "\u001b[0;32m<ipython-input-80-ce187f289e99>\u001b[0m in \u001b[0;36m<module>\u001b[0;34m\u001b[0m\n\u001b[0;32m----> 1\u001b[0;31m \u001b[0md\u001b[0m\u001b[0;34m[\u001b[0m\u001b[0;34m\"back\"\u001b[0m\u001b[0;34m]\u001b[0m\u001b[0;34m\u001b[0m\u001b[0;34m\u001b[0m\u001b[0m\n\u001b[0m",
      "\u001b[0;31mKeyError\u001b[0m: 'back'"
     ]
    }
   ],
   "source": [
    "d[\"back\"]"
   ]
  },
  {
   "cell_type": "code",
   "execution_count": 81,
   "metadata": {
    "slideshow": {
     "slide_type": "fragment"
    }
   },
   "outputs": [
    {
     "data": {
      "text/plain": [
       "False"
      ]
     },
     "execution_count": 81,
     "metadata": {},
     "output_type": "execute_result"
    }
   ],
   "source": [
    "\"back\" in d"
   ]
  },
  {
   "cell_type": "markdown",
   "metadata": {
    "slideshow": {
     "slide_type": "subslide"
    }
   },
   "source": [
    "### Working with Dictionaries"
   ]
  },
  {
   "cell_type": "code",
   "execution_count": 82,
   "metadata": {
    "slideshow": {
     "slide_type": "fragment"
    }
   },
   "outputs": [
    {
     "data": {
      "text/plain": [
       "{'duck': 3, 'go': 1}"
      ]
     },
     "execution_count": 82,
     "metadata": {},
     "output_type": "execute_result"
    }
   ],
   "source": [
    "d[\"duck\"] = 3\n",
    "d"
   ]
  },
  {
   "cell_type": "code",
   "execution_count": 83,
   "metadata": {
    "slideshow": {
     "slide_type": "fragment"
    }
   },
   "outputs": [
    {
     "data": {
      "text/plain": [
       "{'duck': 3, 'go': 1, 'back': 4}"
      ]
     },
     "execution_count": 83,
     "metadata": {},
     "output_type": "execute_result"
    }
   ],
   "source": [
    "d[\"back\"] = 4\n",
    "d"
   ]
  },
  {
   "cell_type": "code",
   "execution_count": 84,
   "metadata": {
    "slideshow": {
     "slide_type": "fragment"
    }
   },
   "outputs": [
    {
     "data": {
      "text/plain": [
       "{'duck': 3, 'back': 4}"
      ]
     },
     "execution_count": 84,
     "metadata": {},
     "output_type": "execute_result"
    }
   ],
   "source": [
    "del d[\"go\"]\n",
    "d"
   ]
  },
  {
   "cell_type": "code",
   "execution_count": 85,
   "metadata": {
    "slideshow": {
     "slide_type": "fragment"
    }
   },
   "outputs": [
    {
     "data": {
      "text/plain": [
       "dict_keys(['duck', 'back'])"
      ]
     },
     "execution_count": 85,
     "metadata": {},
     "output_type": "execute_result"
    }
   ],
   "source": [
    "d.keys()"
   ]
  },
  {
   "cell_type": "code",
   "execution_count": 86,
   "metadata": {
    "slideshow": {
     "slide_type": "fragment"
    }
   },
   "outputs": [
    {
     "data": {
      "text/plain": [
       "dict_values([3, 4])"
      ]
     },
     "execution_count": 86,
     "metadata": {},
     "output_type": "execute_result"
    }
   ],
   "source": [
    "d.values()"
   ]
  },
  {
   "cell_type": "markdown",
   "metadata": {
    "slideshow": {
     "slide_type": "subslide"
    }
   },
   "source": [
    "### Working with Dictionaries"
   ]
  },
  {
   "cell_type": "code",
   "execution_count": 87,
   "metadata": {
    "slideshow": {
     "slide_type": "fragment"
    }
   },
   "outputs": [
    {
     "data": {
      "text/plain": [
       "{'duck': 3, 'back': 4, 'mock': 'Some String!'}"
      ]
     },
     "execution_count": 87,
     "metadata": {},
     "output_type": "execute_result"
    }
   ],
   "source": [
    "d[\"mock\"] = \"Some String!\"\n",
    "d"
   ]
  },
  {
   "cell_type": "code",
   "execution_count": 88,
   "metadata": {
    "slideshow": {
     "slide_type": "fragment"
    }
   },
   "outputs": [
    {
     "data": {
      "text/plain": [
       "{'duck': 3, 'back': 4, 'mock': 'Some String!', 45: True}"
      ]
     },
     "execution_count": 88,
     "metadata": {},
     "output_type": "execute_result"
    }
   ],
   "source": [
    "d[45] = True\n",
    "d"
   ]
  },
  {
   "cell_type": "code",
   "execution_count": 89,
   "metadata": {
    "slideshow": {
     "slide_type": "subslide"
    }
   },
   "outputs": [
    {
     "ename": "TypeError",
     "evalue": "unhashable type: 'list'",
     "output_type": "error",
     "traceback": [
      "\u001b[0;31m----------------------------------------------------------\u001b[0m",
      "\u001b[0;31mTypeError\u001b[0m                Traceback (most recent call last)",
      "\u001b[0;32m<ipython-input-89-7e4f8bcab899>\u001b[0m in \u001b[0;36m<module>\u001b[0;34m\u001b[0m\n\u001b[0;32m----> 1\u001b[0;31m \u001b[0md\u001b[0m\u001b[0;34m[\u001b[0m\u001b[0;34m[\u001b[0m\u001b[0;34m'a'\u001b[0m\u001b[0;34m,\u001b[0m \u001b[0;34m'list'\u001b[0m\u001b[0;34m]\u001b[0m\u001b[0;34m]\u001b[0m \u001b[0;34m=\u001b[0m \u001b[0;36m12\u001b[0m\u001b[0;34m\u001b[0m\u001b[0;34m\u001b[0m\u001b[0m\n\u001b[0m",
      "\u001b[0;31mTypeError\u001b[0m: unhashable type: 'list'"
     ]
    }
   ],
   "source": [
    "d[['a', 'list']] = 12"
   ]
  },
  {
   "cell_type": "markdown",
   "metadata": {
    "slideshow": {
     "slide_type": "fragment"
    }
   },
   "source": [
    "Dictionary keys must be **immutable**:\n",
    "* allowed: Numbers, Strings, Tuples\n",
    "* not allowed: Lists, Dictionaries"
   ]
  },
  {
   "cell_type": "markdown",
   "metadata": {
    "slideshow": {
     "slide_type": "slide"
    }
   },
   "source": [
    "## Counting Unigrams"
   ]
  },
  {
   "cell_type": "code",
   "execution_count": 90,
   "metadata": {
    "slideshow": {
     "slide_type": "fragment"
    }
   },
   "outputs": [],
   "source": [
    "def unigram_freq(text):\n",
    "    words = tokenize(text)\n",
    "    freq = {}              # empty dictionary\n",
    "    for unigram in words:\n",
    "        if unigram in freq:\n",
    "            freq[unigram] += 1\n",
    "        else:\n",
    "            freq[unigram] = 1\n",
    "    return freq"
   ]
  },
  {
   "cell_type": "code",
   "execution_count": 91,
   "metadata": {
    "slideshow": {
     "slide_type": "fragment"
    }
   },
   "outputs": [
    {
     "data": {
      "text/plain": [
       "{'tsamina': 1, 'mina': 1, 'eh': 4, 'waka': 2}"
      ]
     },
     "execution_count": 91,
     "metadata": {},
     "output_type": "execute_result"
    }
   ],
   "source": [
    "unigram_freq(\"tsamina mina eh eh waka waka eh eh\")"
   ]
  },
  {
   "cell_type": "markdown",
   "metadata": {
    "slideshow": {
     "slide_type": "slide"
    }
   },
   "source": [
    "## Back to Bigrams..."
   ]
  },
  {
   "cell_type": "markdown",
   "metadata": {
    "slideshow": {
     "slide_type": "fragment"
    }
   },
   "source": [
    "### Question: How to represent bigrams?\n",
    "\n",
    "Options:\n",
    "* Lists of length two: `[\"pickled\", \"peppers\"]`\n",
    "* Tuples: `(\"pickled\", \"peppers\")`"
   ]
  },
  {
   "cell_type": "markdown",
   "metadata": {
    "slideshow": {
     "slide_type": "slide"
    }
   },
   "source": [
    "### Tuples\n",
    "Tuple Basics:\n",
    "```python\n",
    "key = (lastname, firstname)\n",
    "lastname = key[0]\n",
    "point = x, y, z             # parentheses are optional\n",
    "singleton = (1,)            # trailing comma is OK!\n",
    "empty = ()\n",
    "```"
   ]
  },
  {
   "cell_type": "markdown",
   "metadata": {
    "slideshow": {
     "slide_type": "fragment"
    }
   },
   "source": [
    "Tuples are **immutable** (unlike lists):"
   ]
  },
  {
   "cell_type": "code",
   "execution_count": 92,
   "metadata": {
    "slideshow": {
     "slide_type": "fragment"
    }
   },
   "outputs": [
    {
     "ename": "TypeError",
     "evalue": "'tuple' object does not support item assignment",
     "output_type": "error",
     "traceback": [
      "\u001b[0;31m----------------------------------------------------------\u001b[0m",
      "\u001b[0;31mTypeError\u001b[0m                Traceback (most recent call last)",
      "\u001b[0;32m<ipython-input-92-efa139c37321>\u001b[0m in \u001b[0;36m<module>\u001b[0;34m\u001b[0m\n\u001b[1;32m      1\u001b[0m \u001b[0mkey\u001b[0m \u001b[0;34m=\u001b[0m \u001b[0;34m(\u001b[0m\u001b[0;34m\"Hamidi\"\u001b[0m\u001b[0;34m,\u001b[0m \u001b[0;34m\"Minoo\"\u001b[0m\u001b[0;34m)\u001b[0m\u001b[0;34m\u001b[0m\u001b[0;34m\u001b[0m\u001b[0m\n\u001b[0;32m----> 2\u001b[0;31m \u001b[0mkey\u001b[0m\u001b[0;34m[\u001b[0m\u001b[0;36m0\u001b[0m\u001b[0;34m]\u001b[0m \u001b[0;34m=\u001b[0m \u001b[0;34m\"Hamidian\"\u001b[0m\u001b[0;34m\u001b[0m\u001b[0;34m\u001b[0m\u001b[0m\n\u001b[0m",
      "\u001b[0;31mTypeError\u001b[0m: 'tuple' object does not support item assignment"
     ]
    }
   ],
   "source": [
    "key = (\"Hamidi\", \"Minoo\")\n",
    "key[0] = \"Hamidian\""
   ]
  },
  {
   "cell_type": "markdown",
   "metadata": {
    "slideshow": {
     "slide_type": "slide"
    }
   },
   "source": [
    "### Counting Bigam Frequencies"
   ]
  },
  {
   "cell_type": "code",
   "execution_count": 93,
   "metadata": {
    "slideshow": {
     "slide_type": "fragment"
    }
   },
   "outputs": [],
   "source": [
    "def bigram_freq(s):\n",
    "    tokens = tokenize(s)\n",
    "    result = {}\n",
    "    for i in range(len(tokens)-1): # coule have been written using enumerate\n",
    "        bigram = (tokens[i], tokens[i+1])\n",
    "        if not bigram in result:\n",
    "            result[bigram] = 1\n",
    "        else:\n",
    "            result[bigram] = result[bigram] + 1\n",
    "    return result"
   ]
  },
  {
   "cell_type": "code",
   "execution_count": 94,
   "metadata": {
    "slideshow": {
     "slide_type": "fragment"
    }
   },
   "outputs": [
    {
     "name": "stdout",
     "output_type": "stream",
     "text": [
      "\n",
      "Peter Piper picked a peck of pickled peppers;  \n",
      "A peck of pickled peppers Peter Piper picked.  \n",
      "If Peter Piper picked a peck of pickled peppers,  \n",
      "Where’s the peck of pickled peppers Peter Piper picked?\n",
      "\n"
     ]
    },
    {
     "data": {
      "text/plain": [
       "{('peter', 'piper'): 4,\n",
       " ('piper', 'picked'): 4,\n",
       " ('picked', 'a'): 2,\n",
       " ('a', 'peck'): 3,\n",
       " ('peck', 'of'): 4,\n",
       " ('of', 'pickled'): 4,\n",
       " ('pickled', 'peppers'): 4,\n",
       " ('peppers', 'a'): 1,\n",
       " ('peppers', 'peter'): 2,\n",
       " ('picked', 'if'): 1,\n",
       " ('if', 'peter'): 1,\n",
       " ('peppers', 'where’s'): 1,\n",
       " ('where’s', 'the'): 1,\n",
       " ('the', 'peck'): 1}"
      ]
     },
     "execution_count": 94,
     "metadata": {},
     "output_type": "execute_result"
    }
   ],
   "source": [
    "print(rhyme)\n",
    "bigram_freq(rhyme)"
   ]
  },
  {
   "cell_type": "markdown",
   "metadata": {
    "slideshow": {
     "slide_type": "slide"
    }
   },
   "source": [
    "## Step 3. Construct a (Simple) Language Model\n",
    "```\n",
    "'peter' ==> {'piper': 1}\n",
    "'picked' ==> {'peter': 0.25, 'a': 0.5, 'if': 0.25}\n",
    "...\n",
    "```"
   ]
  },
  {
   "attachments": {
    "langmodel.jpg": {
     "image/jpeg": "[encoded data removed]"
    }
   },
   "cell_type": "markdown",
   "metadata": {
    "slideshow": {
     "slide_type": "fragment"
    }
   },
   "source": [
    "## Choosing the Data Structure\n",
    "![langmodel.jpg](attachment:langmodel.jpg)"
   ]
  },
  {
   "cell_type": "markdown",
   "metadata": {
    "slideshow": {
     "slide_type": "subslide"
    }
   },
   "source": [
    "### Calculating Frequencies"
   ]
  },
  {
   "cell_type": "code",
   "execution_count": 110,
   "metadata": {
    "slideshow": {
     "slide_type": "fragment"
    }
   },
   "outputs": [],
   "source": [
    "# This code has an error\n",
    "def construct_model(text):\n",
    "    model = dict.fromkeys(tokenize(text), {})\n",
    "    bi_freqs = bigram_freq(text)\n",
    "    for bigram in bi_freqs:\n",
    "        model[bigram[0]][bigram[1]] = bi_freqs[bigram]\n",
    "    return model"
   ]
  },
  {
   "cell_type": "code",
   "execution_count": 112,
   "metadata": {
    "slideshow": {
     "slide_type": "fragment"
    }
   },
   "outputs": [
    {
     "data": {
      "text/plain": [
       "{'peter': {'piper': 4,\n",
       "  'picked': 4,\n",
       "  'a': 1,\n",
       "  'peck': 1,\n",
       "  'of': 4,\n",
       "  'pickled': 4,\n",
       "  'peppers': 4,\n",
       "  'peter': 1,\n",
       "  'if': 1,\n",
       "  'where’s': 1,\n",
       "  'the': 1},\n",
       " 'piper': {'piper': 4,\n",
       "  'picked': 4,\n",
       "  'a': 1,\n",
       "  'peck': 1,\n",
       "  'of': 4,\n",
       "  'pickled': 4,\n",
       "  'peppers': 4,\n",
       "  'peter': 1,\n",
       "  'if': 1,\n",
       "  'where’s': 1,\n",
       "  'the': 1},\n",
       " 'picked': {'piper': 4,\n",
       "  'picked': 4,\n",
       "  'a': 1,\n",
       "  'peck': 1,\n",
       "  'of': 4,\n",
       "  'pickled': 4,\n",
       "  'peppers': 4,\n",
       "  'peter': 1,\n",
       "  'if': 1,\n",
       "  'where’s': 1,\n",
       "  'the': 1},\n",
       " 'a': {'piper': 4,\n",
       "  'picked': 4,\n",
       "  'a': 1,\n",
       "  'peck': 1,\n",
       "  'of': 4,\n",
       "  'pickled': 4,\n",
       "  'peppers': 4,\n",
       "  'peter': 1,\n",
       "  'if': 1,\n",
       "  'where’s': 1,\n",
       "  'the': 1},\n",
       " 'peck': {'piper': 4,\n",
       "  'picked': 4,\n",
       "  'a': 1,\n",
       "  'peck': 1,\n",
       "  'of': 4,\n",
       "  'pickled': 4,\n",
       "  'peppers': 4,\n",
       "  'peter': 1,\n",
       "  'if': 1,\n",
       "  'where’s': 1,\n",
       "  'the': 1},\n",
       " 'of': {'piper': 4,\n",
       "  'picked': 4,\n",
       "  'a': 1,\n",
       "  'peck': 1,\n",
       "  'of': 4,\n",
       "  'pickled': 4,\n",
       "  'peppers': 4,\n",
       "  'peter': 1,\n",
       "  'if': 1,\n",
       "  'where’s': 1,\n",
       "  'the': 1},\n",
       " 'pickled': {'piper': 4,\n",
       "  'picked': 4,\n",
       "  'a': 1,\n",
       "  'peck': 1,\n",
       "  'of': 4,\n",
       "  'pickled': 4,\n",
       "  'peppers': 4,\n",
       "  'peter': 1,\n",
       "  'if': 1,\n",
       "  'where’s': 1,\n",
       "  'the': 1},\n",
       " 'peppers': {'piper': 4,\n",
       "  'picked': 4,\n",
       "  'a': 1,\n",
       "  'peck': 1,\n",
       "  'of': 4,\n",
       "  'pickled': 4,\n",
       "  'peppers': 4,\n",
       "  'peter': 1,\n",
       "  'if': 1,\n",
       "  'where’s': 1,\n",
       "  'the': 1},\n",
       " 'if': {'piper': 4,\n",
       "  'picked': 4,\n",
       "  'a': 1,\n",
       "  'peck': 1,\n",
       "  'of': 4,\n",
       "  'pickled': 4,\n",
       "  'peppers': 4,\n",
       "  'peter': 1,\n",
       "  'if': 1,\n",
       "  'where’s': 1,\n",
       "  'the': 1},\n",
       " 'where’s': {'piper': 4,\n",
       "  'picked': 4,\n",
       "  'a': 1,\n",
       "  'peck': 1,\n",
       "  'of': 4,\n",
       "  'pickled': 4,\n",
       "  'peppers': 4,\n",
       "  'peter': 1,\n",
       "  'if': 1,\n",
       "  'where’s': 1,\n",
       "  'the': 1},\n",
       " 'the': {'piper': 4,\n",
       "  'picked': 4,\n",
       "  'a': 1,\n",
       "  'peck': 1,\n",
       "  'of': 4,\n",
       "  'pickled': 4,\n",
       "  'peppers': 4,\n",
       "  'peter': 1,\n",
       "  'if': 1,\n",
       "  'where’s': 1,\n",
       "  'the': 1}}"
      ]
     },
     "execution_count": 112,
     "metadata": {},
     "output_type": "execute_result"
    }
   ],
   "source": [
    "construct_model(rhyme)"
   ]
  },
  {
   "attachments": {
    "refcopy.jpg": {
     "image/jpeg": "[encoded data removed]"
    }
   },
   "cell_type": "markdown",
   "metadata": {
    "slideshow": {
     "slide_type": "slide"
    }
   },
   "source": [
    "### References in Python\n",
    "![refcopy.jpg](attachment:refcopy.jpg)\n",
    "\n",
    "For mutable objects (like strings), this makes no problem."
   ]
  },
  {
   "attachments": {
    "refcopy-2.jpg": {
     "image/jpeg": "[encoded data removed]"
    }
   },
   "cell_type": "markdown",
   "metadata": {
    "slideshow": {
     "slide_type": "subslide"
    }
   },
   "source": [
    "### Shared References to Mutable Objects\n",
    "![refcopy-2.jpg](attachment:refcopy-2.jpg)"
   ]
  },
  {
   "cell_type": "code",
   "execution_count": 97,
   "metadata": {
    "slideshow": {
     "slide_type": "fragment"
    }
   },
   "outputs": [
    {
     "name": "stdout",
     "output_type": "stream",
     "text": [
      "[4, 3, 2]\n"
     ]
    }
   ],
   "source": [
    "a = [1, 3, 2]\n",
    "b = a\n",
    "b[0] = 4\n",
    "print(a)"
   ]
  },
  {
   "cell_type": "code",
   "execution_count": 98,
   "metadata": {
    "slideshow": {
     "slide_type": "fragment"
    }
   },
   "outputs": [
    {
     "name": "stdout",
     "output_type": "stream",
     "text": [
      "[1, 3, 2]\n"
     ]
    }
   ],
   "source": [
    "a = [1, 3, 2]\n",
    "b = a.copy()\n",
    "b[0] = 4\n",
    "print(a)"
   ]
  },
  {
   "attachments": {},
   "cell_type": "markdown",
   "metadata": {
    "slideshow": {
     "slide_type": "slide"
    }
   },
   "source": [
    "### The Problem with Our Code\n",
    "```Python\n",
    "model = dict.fromkeys(tokenize(text), {})\n",
    "```\n",
    "<img src=\"./images/lang-bug-1.jpg\"/>"
   ]
  },
  {
   "attachments": {},
   "cell_type": "markdown",
   "metadata": {
    "slideshow": {
     "slide_type": "subslide"
    }
   },
   "source": [
    "### The Problem with Our Code\n",
    "```Python\n",
    "model = dict.fromkeys(tokenize(text), {})\n",
    "```\n",
    "<img src=\"./images/lang-bug-2.jpg\"/>"
   ]
  },
  {
   "cell_type": "markdown",
   "metadata": {
    "slideshow": {
     "slide_type": "subslide"
    }
   },
   "source": [
    "### Fixing the Problem\n",
    "Instead of\n",
    "```Python\n",
    "model = dict.fromkeys(tokenize(text), {})\n",
    "```\n",
    "\n",
    "We write\n",
    "```Python\n",
    "model = dict.fromkeys(tokenize(text))\n",
    "for word in model:\n",
    "    model[word] = {}\n",
    "```"
   ]
  },
  {
   "cell_type": "markdown",
   "metadata": {
    "slideshow": {
     "slide_type": "fragment"
    }
   },
   "source": [
    "**Each time Python interpreter encounters `{}`, it creates a *new* empty dictionary.**"
   ]
  },
  {
   "cell_type": "markdown",
   "metadata": {
    "slideshow": {
     "slide_type": "slide"
    }
   },
   "source": [
    "## The New Code"
   ]
  },
  {
   "cell_type": "code",
   "execution_count": 113,
   "metadata": {
    "slideshow": {
     "slide_type": "fragment"
    }
   },
   "outputs": [],
   "source": [
    "def construct_model(text):\n",
    "    model = dict.fromkeys(tokenize(text))\n",
    "    for word in model:\n",
    "        model[word] = {}\n",
    "    bi_freqs = bigram_freq(text)\n",
    "    for bigram in bi_freqs:\n",
    "        model[bigram[0]][bigram[1]] = bi_freqs[bigram]\n",
    "    return model "
   ]
  },
  {
   "cell_type": "code",
   "execution_count": 322,
   "metadata": {},
   "outputs": [
    {
     "data": {
      "text/plain": [
       "{'one': {}, 'two': {}}"
      ]
     },
     "execution_count": 322,
     "metadata": {},
     "output_type": "execute_result"
    }
   ],
   "source": [
    "a = [\"one\", \"two\"]\n",
    "d = { word: {} for word in a}\n",
    "d"
   ]
  },
  {
   "cell_type": "code",
   "execution_count": 323,
   "metadata": {},
   "outputs": [
    {
     "data": {
      "text/plain": [
       "{'one': {'a': 23}, 'two': {}}"
      ]
     },
     "execution_count": 323,
     "metadata": {},
     "output_type": "execute_result"
    }
   ],
   "source": [
    "d['one']['a'] = 23\n",
    "d"
   ]
  },
  {
   "cell_type": "code",
   "execution_count": 324,
   "metadata": {
    "slideshow": {
     "slide_type": "fragment"
    }
   },
   "outputs": [],
   "source": [
    "def construct_model(text):\n",
    "    model = { word: {} for word in tokenize(text) }\n",
    "    bi_freqs = bigram_freq(text)\n",
    "    for bigram in bi_freqs:\n",
    "        model[bigram[0]][bigram[1]] = bi_freqs[bigram]\n",
    "    return model "
   ]
  },
  {
   "cell_type": "code",
   "execution_count": 325,
   "metadata": {
    "slideshow": {
     "slide_type": "fragment"
    }
   },
   "outputs": [
    {
     "data": {
      "text/plain": [
       "{'peter': {'piper': 4},\n",
       " 'piper': {'picked': 4},\n",
       " 'picked': {'a': 2, '.': 1},\n",
       " 'a': {'peck': 3},\n",
       " 'peck': {'of': 4},\n",
       " 'of': {'pickled': 4},\n",
       " 'pickled': {'peppers': 4},\n",
       " 'peppers': {'a': 1, 'peter': 2, 'wheres': 1},\n",
       " '.': {'if': 1},\n",
       " 'if': {'peter': 1},\n",
       " 'wheres': {'the': 1},\n",
       " 'the': {'peck': 1}}"
      ]
     },
     "execution_count": 325,
     "metadata": {},
     "output_type": "execute_result"
    }
   ],
   "source": [
    "construct_model(rhyme)"
   ]
  },
  {
   "cell_type": "markdown",
   "metadata": {
    "slideshow": {
     "slide_type": "slide"
    }
   },
   "source": [
    "```Python\n",
    "def tokenize(s):\n",
    "    words = s.split()\n",
    "    result = []\n",
    "    for word in words:\n",
    "        result.append(word.rstrip(\";.,?!\").lower())\n",
    "    return result\n",
    "\n",
    "def bigram_freq(s):\n",
    "    tokens = tokenize(s)\n",
    "    result = {}\n",
    "    for i in range(len(tokens)-1):\n",
    "        bigram = (tokens[i], tokens[i+1])\n",
    "        if not bigram in result:\n",
    "            result[bigram] = 1\n",
    "        else:\n",
    "            result[bigram] = result[bigram] + 1\n",
    "    return result\n",
    "\n",
    "def construct_model(text):\n",
    "    model = dict.fromkeys(tokenize(text))\n",
    "    for word in model:\n",
    "        model[word] = {}\n",
    "    bi_freqs = bigram_freq(text)\n",
    "    for bigram in bi_freqs:\n",
    "        model[bigram[0]][bigram[1]] = bi_freqs[bigram]\n",
    "    return model \n",
    "```"
   ]
  },
  {
   "cell_type": "markdown",
   "metadata": {
    "slideshow": {
     "slide_type": "slide"
    }
   },
   "source": [
    "## Lambda Expression"
   ]
  },
  {
   "cell_type": "code",
   "execution_count": 307,
   "metadata": {},
   "outputs": [
    {
     "data": {
      "text/plain": [
       "[4, 8, 6]"
      ]
     },
     "execution_count": 307,
     "metadata": {},
     "output_type": "execute_result"
    }
   ],
   "source": [
    "def twice(x):\n",
    "    return 2 * x\n",
    "\n",
    "def apply(sequence, operation):\n",
    "    result = []\n",
    "    for element in sequence:\n",
    "        result.append(operation(element))\n",
    "    return result\n",
    "\n",
    "apply([2, 4, 3], twice)"
   ]
  },
  {
   "cell_type": "code",
   "execution_count": 308,
   "metadata": {
    "slideshow": {
     "slide_type": "subslide"
    }
   },
   "outputs": [
    {
     "data": {
      "text/plain": [
       "[4, 8, 6]"
      ]
     },
     "execution_count": 308,
     "metadata": {},
     "output_type": "execute_result"
    }
   ],
   "source": [
    "def apply(sequence, operation):\n",
    "    return [operation(element) for element in sequence]\n",
    "\n",
    "apply([2, 4, 3], twice)"
   ]
  },
  {
   "cell_type": "code",
   "execution_count": 310,
   "metadata": {
    "slideshow": {
     "slide_type": "subslide"
    }
   },
   "outputs": [
    {
     "data": {
      "text/plain": [
       "[4, 8, 6]"
      ]
     },
     "execution_count": 310,
     "metadata": {},
     "output_type": "execute_result"
    }
   ],
   "source": [
    "apply([2, 4, 3], lambda x: 2 * x)"
   ]
  },
  {
   "cell_type": "code",
   "execution_count": 326,
   "metadata": {
    "slideshow": {
     "slide_type": "slide"
    }
   },
   "outputs": [
    {
     "data": {
      "text/plain": [
       "[('Ghamar', 14.2, 18.5),\n",
       " ('Ghamar', 15.2, 18.5),\n",
       " ('Gholam', 12, 14.5),\n",
       " ('Gholi', 9, 8.5)]"
      ]
     },
     "execution_count": 326,
     "metadata": {},
     "output_type": "execute_result"
    }
   ],
   "source": [
    "grades = [\n",
    "    (\"Gholam\", 12, 14.5),\n",
    "    (\"Ghamar\", 15.2, 18.5),\n",
    "    (\"Ghamar\", 14.2, 18.5),\n",
    "    (\"Gholi\", 9, 8.5)\n",
    "]\n",
    "grades.sort()\n",
    "grades"
   ]
  },
  {
   "cell_type": "code",
   "execution_count": 314,
   "metadata": {
    "slideshow": {
     "slide_type": "subslide"
    }
   },
   "outputs": [
    {
     "data": {
      "text/plain": [
       "[('Gholi', 9, 8.5), ('Gholam', 12, 14.5), ('Ghamar', 15.2, 18.5)]"
      ]
     },
     "execution_count": 314,
     "metadata": {},
     "output_type": "execute_result"
    }
   ],
   "source": [
    "grades.sort(key = lambda st: st[2])\n",
    "grades"
   ]
  },
  {
   "cell_type": "code",
   "execution_count": 328,
   "metadata": {
    "slideshow": {
     "slide_type": "subslide"
    }
   },
   "outputs": [
    {
     "data": {
      "text/plain": [
       "[('Ghodrat', 15.2, 18.5),\n",
       " ('Ghamar', 16.2, 18.5),\n",
       " ('Gholam', 12, 14.5),\n",
       " ('Gholi', 9, 8.5)]"
      ]
     },
     "execution_count": 328,
     "metadata": {},
     "output_type": "execute_result"
    }
   ],
   "source": [
    "grades = [\n",
    "    (\"Gholam\", 12, 14.5),\n",
    "    (\"Ghodrat\", 15.2, 18.5),\n",
    "    (\"Ghamar\", 16.2, 18.5),\n",
    "    (\"Gholi\", 9, 8.5)\n",
    "]\n",
    "\n",
    "grades.sort(key=lambda st: (st[2], -st[1]), reverse=True)\n",
    "grades"
   ]
  }
 ],
 "metadata": {
  "celltoolbar": "Slideshow",
  "kernelspec": {
   "display_name": "Python 3",
   "language": "python",
   "name": "python3"
  },
  "language_info": {
   "codemirror_mode": {
    "name": "ipython",
    "version": 3
   },
   "file_extension": ".py",
   "mimetype": "text/x-python",
   "name": "python",
   "nbconvert_exporter": "python",
   "pygments_lexer": "ipython3",
   "version": "3.7.4"
  }
 },
 "nbformat": 4,
 "nbformat_minor": 2
}
